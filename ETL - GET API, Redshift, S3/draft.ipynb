{
 "cells": [
  {
   "cell_type": "code",
   "execution_count": 1,
   "source": [
    "import http.client\n",
    "import json\n",
    "import csv\n",
    "import configparser\n",
    "import os"
   ],
   "outputs": [],
   "metadata": {}
  },
  {
   "cell_type": "code",
   "execution_count": 2,
   "source": [
    "#read config\n",
    "config = configparser.ConfigParser()\n",
    "config.read('config.cfg')\n",
    "\n",
    "#getting data from API\n",
    "connection = http.client.HTTPConnection('api.football-data.org')\n",
    "headers = {'X-Auth-Token':  config.get('TOKEN','auth_token')}\n",
    "connection.request('GET', '/v2/competitions/PL', None, headers )\n",
    "response = json.loads(connection.getresponse().read().decode())\n",
    "# print(response)"
   ],
   "outputs": [],
   "metadata": {}
  },
  {
   "cell_type": "code",
   "execution_count": 3,
   "source": [
    "#download data in csv and store it in local machine\n",
    "raw_data = response['seasons']\n",
    "\n",
    "with open('pl_raw.csv', 'w') as f:\n",
    "    csvwriter = csv.writer(f)\n",
    "    count = 0\n",
    "    for d in raw_data:\n",
    "          if count == 0:\n",
    "                 header = d.keys()\n",
    "                 csvwriter.writerow(header)\n",
    "                 count += 1\n",
    "          csvwriter.writerow(d.values())\n",
    "    f.close()"
   ],
   "outputs": [],
   "metadata": {}
  },
  {
   "cell_type": "code",
   "execution_count": null,
   "source": [],
   "outputs": [],
   "metadata": {}
  }
 ],
 "metadata": {
  "orig_nbformat": 4,
  "language_info": {
   "name": "python",
   "version": "3.8.5",
   "mimetype": "text/x-python",
   "codemirror_mode": {
    "name": "ipython",
    "version": 3
   },
   "pygments_lexer": "ipython3",
   "nbconvert_exporter": "python",
   "file_extension": ".py"
  },
  "kernelspec": {
   "name": "python3",
   "display_name": "Python 3.8.5 64-bit ('base': conda)"
  },
  "interpreter": {
   "hash": "583905bf61821d4e0455461d7da2173d1fcafdbacaafc8b8de34db2124ac8328"
  }
 },
 "nbformat": 4,
 "nbformat_minor": 2
}